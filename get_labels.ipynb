{
 "cells": [
  {
   "cell_type": "markdown",
   "metadata": {},
   "source": [
    "# HurriHelp: Making Labels for Tweets"
   ]
  },
  {
   "cell_type": "markdown",
   "metadata": {},
   "source": [
    "How to get from raw scraped data (see get_tweets notebook) to the CSV I'll be importing:\n",
    "1) concatinating all DFs to make one big df:\n",
    "\n",
    "`dfs = [df_1.csv, df_2.csv, etc...]\n",
    "df = pd.concat(dfs)`\n",
    "\n",
    "2) adding the column names back:\n",
    "\n",
    "`df.columns = ['text', 'screen_name', 'user_description', 'favourite_count', 'retweet_count', 'created_at', 'replying_to', 'media', 'hashtags', 'urls', 'user_mentions', 'is_quote']`\n",
    "\n",
    "3) making a new DF with all duplicates removed (any tweet where the text and screen name are the same):\n",
    "\n",
    "`dd = df.drop_duplicates(subset=['text', 'screen_name'])`\n",
    "\n",
    "4) saving that df:\n",
    "`dd.to_csv(\"tweets_duplicates_removed.csv.gz\", compression = 'gzip')`"
   ]
  },
  {
   "cell_type": "markdown",
   "metadata": {},
   "source": [
    "First I import pandas and all the sentiment analysis tools I'll be using"
   ]
  },
  {
   "cell_type": "code",
   "execution_count": 1,
   "metadata": {
    "ExecuteTime": {
     "end_time": "2022-11-13T18:38:05.715670Z",
     "start_time": "2022-11-13T18:37:55.269231Z"
    }
   },
   "outputs": [],
   "source": [
    "import pandas as pd\n",
    "from vaderSentiment.vaderSentiment import SentimentIntensityAnalyzer\n",
    "from textblob import TextBlob\n",
    "import tensorflow as tf\n",
    "from transformers import pipeline"
   ]
  },
  {
   "cell_type": "markdown",
   "metadata": {},
   "source": [
    "loading in the csv file "
   ]
  },
  {
   "cell_type": "code",
   "execution_count": 5,
   "metadata": {
    "ExecuteTime": {
     "end_time": "2022-11-13T18:38:44.860853Z",
     "start_time": "2022-11-13T18:38:44.596384Z"
    }
   },
   "outputs": [],
   "source": [
    "df = pd.read_csv(\"data_sets/tweets_duplicates_removed.csv.gz\", index_col='0')"
   ]
  },
  {
   "cell_type": "markdown",
   "metadata": {},
   "source": [
    "taking a look at the shape and data types "
   ]
  },
  {
   "cell_type": "code",
   "execution_count": 6,
   "metadata": {
    "ExecuteTime": {
     "end_time": "2022-11-13T18:38:46.703371Z",
     "start_time": "2022-11-13T18:38:46.632656Z"
    }
   },
   "outputs": [
    {
     "name": "stdout",
     "output_type": "stream",
     "text": [
      "<class 'pandas.core.frame.DataFrame'>\n",
      "Int64Index: 47690 entries, 0 to 31102\n",
      "Data columns (total 13 columns):\n",
      " #   Column            Non-Null Count  Dtype \n",
      "---  ------            --------------  ----- \n",
      " 0   text              47690 non-null  object\n",
      " 1   screen_name       47690 non-null  object\n",
      " 2   user_description  39352 non-null  object\n",
      " 3   favourite_count   47690 non-null  int64 \n",
      " 4   retweet_count     47690 non-null  int64 \n",
      " 5   created_at        47690 non-null  object\n",
      " 6   replying_to       1172 non-null   object\n",
      " 7   media             47690 non-null  bool  \n",
      " 8   hashtags          47690 non-null  object\n",
      " 9   urls              47690 non-null  object\n",
      " 10  user_mentions     47690 non-null  object\n",
      " 11  is_quote          47690 non-null  bool  \n",
      " 12  is_retweet        47690 non-null  bool  \n",
      "dtypes: bool(3), int64(2), object(8)\n",
      "memory usage: 4.1+ MB\n"
     ]
    }
   ],
   "source": [
    "df.info()"
   ]
  },
  {
   "cell_type": "markdown",
   "metadata": {},
   "source": [
    "taking a look at the first five rows"
   ]
  },
  {
   "cell_type": "code",
   "execution_count": 7,
   "metadata": {
    "ExecuteTime": {
     "end_time": "2022-11-13T18:38:52.588617Z",
     "start_time": "2022-11-13T18:38:52.572166Z"
    }
   },
   "outputs": [
    {
     "data": {
      "text/html": [
       "<div>\n",
       "<style scoped>\n",
       "    .dataframe tbody tr th:only-of-type {\n",
       "        vertical-align: middle;\n",
       "    }\n",
       "\n",
       "    .dataframe tbody tr th {\n",
       "        vertical-align: top;\n",
       "    }\n",
       "\n",
       "    .dataframe thead th {\n",
       "        text-align: right;\n",
       "    }\n",
       "</style>\n",
       "<table border=\"1\" class=\"dataframe\">\n",
       "  <thead>\n",
       "    <tr style=\"text-align: right;\">\n",
       "      <th></th>\n",
       "      <th>text</th>\n",
       "      <th>screen_name</th>\n",
       "      <th>user_description</th>\n",
       "      <th>favourite_count</th>\n",
       "      <th>retweet_count</th>\n",
       "      <th>created_at</th>\n",
       "      <th>replying_to</th>\n",
       "      <th>media</th>\n",
       "      <th>hashtags</th>\n",
       "      <th>urls</th>\n",
       "      <th>user_mentions</th>\n",
       "      <th>is_quote</th>\n",
       "      <th>is_retweet</th>\n",
       "    </tr>\n",
       "    <tr>\n",
       "      <th>0</th>\n",
       "      <th></th>\n",
       "      <th></th>\n",
       "      <th></th>\n",
       "      <th></th>\n",
       "      <th></th>\n",
       "      <th></th>\n",
       "      <th></th>\n",
       "      <th></th>\n",
       "      <th></th>\n",
       "      <th></th>\n",
       "      <th></th>\n",
       "      <th></th>\n",
       "      <th></th>\n",
       "    </tr>\n",
       "  </thead>\n",
       "  <tbody>\n",
       "    <tr>\n",
       "      <th>0</th>\n",
       "      <td>RT @USNationalGuard: Today, approximately 5,20...</td>\n",
       "      <td>echristensen113</td>\n",
       "      <td>Native West Texan, avid gardener, skilled chef.</td>\n",
       "      <td>0</td>\n",
       "      <td>92</td>\n",
       "      <td>2022-10-03 20:19:51+00:00</td>\n",
       "      <td>NaN</td>\n",
       "      <td>False</td>\n",
       "      <td>[]</td>\n",
       "      <td>[]</td>\n",
       "      <td>[{'screen_name': 'USNationalGuard', 'name': 'N...</td>\n",
       "      <td>False</td>\n",
       "      <td>True</td>\n",
       "    </tr>\n",
       "    <tr>\n",
       "      <th>1</th>\n",
       "      <td>RT @glamelegance: Is it just me, or does anyon...</td>\n",
       "      <td>BlanketFtBliss</td>\n",
       "      <td>NaN</td>\n",
       "      <td>0</td>\n",
       "      <td>5452</td>\n",
       "      <td>2022-10-03 20:19:50+00:00</td>\n",
       "      <td>NaN</td>\n",
       "      <td>False</td>\n",
       "      <td>[]</td>\n",
       "      <td>[]</td>\n",
       "      <td>[{'screen_name': 'glamelegance', 'name': 'Jule...</td>\n",
       "      <td>False</td>\n",
       "      <td>True</td>\n",
       "    </tr>\n",
       "    <tr>\n",
       "      <th>2</th>\n",
       "      <td>RT @HomeDepotFound: Over the weekend, one of o...</td>\n",
       "      <td>EBadger76</td>\n",
       "      <td>Asset Protection Supervisor at Redlands 5087! ...</td>\n",
       "      <td>0</td>\n",
       "      <td>29</td>\n",
       "      <td>2022-10-03 20:19:46+00:00</td>\n",
       "      <td>NaN</td>\n",
       "      <td>False</td>\n",
       "      <td>[]</td>\n",
       "      <td>[]</td>\n",
       "      <td>[{'screen_name': 'HomeDepotFound', 'name': 'Th...</td>\n",
       "      <td>False</td>\n",
       "      <td>True</td>\n",
       "    </tr>\n",
       "    <tr>\n",
       "      <th>3</th>\n",
       "      <td>RT @TeamPelosi: ALL House Democrats said YES t...</td>\n",
       "      <td>kenneyy88</td>\n",
       "      <td>NaN</td>\n",
       "      <td>0</td>\n",
       "      <td>6449</td>\n",
       "      <td>2022-10-03 20:19:45+00:00</td>\n",
       "      <td>NaN</td>\n",
       "      <td>False</td>\n",
       "      <td>[]</td>\n",
       "      <td>[]</td>\n",
       "      <td>[{'screen_name': 'TeamPelosi', 'name': 'Nancy ...</td>\n",
       "      <td>False</td>\n",
       "      <td>True</td>\n",
       "    </tr>\n",
       "    <tr>\n",
       "      <th>4</th>\n",
       "      <td>“#Florida's death toll from #HurricaneIan tops...</td>\n",
       "      <td>AmPowerBlog</td>\n",
       "      <td>Sports Twitter is the best Twitter. 🏈🏇🎾🛹⚾🏌️😎🚴🏐...</td>\n",
       "      <td>0</td>\n",
       "      <td>0</td>\n",
       "      <td>2022-10-03 20:19:43+00:00</td>\n",
       "      <td>NaN</td>\n",
       "      <td>False</td>\n",
       "      <td>[{'text': 'Florida', 'indices': [1, 9]}, {'tex...</td>\n",
       "      <td>[{'url': 'https://t.co/RqcyAHAxtk', 'expanded_...</td>\n",
       "      <td>[]</td>\n",
       "      <td>False</td>\n",
       "      <td>False</td>\n",
       "    </tr>\n",
       "  </tbody>\n",
       "</table>\n",
       "</div>"
      ],
      "text/plain": [
       "                                                text      screen_name  \\\n",
       "0                                                                       \n",
       "0  RT @USNationalGuard: Today, approximately 5,20...  echristensen113   \n",
       "1  RT @glamelegance: Is it just me, or does anyon...   BlanketFtBliss   \n",
       "2  RT @HomeDepotFound: Over the weekend, one of o...        EBadger76   \n",
       "3  RT @TeamPelosi: ALL House Democrats said YES t...        kenneyy88   \n",
       "4  “#Florida's death toll from #HurricaneIan tops...      AmPowerBlog   \n",
       "\n",
       "                                    user_description  favourite_count  \\\n",
       "0                                                                       \n",
       "0    Native West Texan, avid gardener, skilled chef.                0   \n",
       "1                                                NaN                0   \n",
       "2  Asset Protection Supervisor at Redlands 5087! ...                0   \n",
       "3                                                NaN                0   \n",
       "4  Sports Twitter is the best Twitter. 🏈🏇🎾🛹⚾🏌️😎🚴🏐...                0   \n",
       "\n",
       "   retweet_count                 created_at replying_to  media  \\\n",
       "0                                                                \n",
       "0             92  2022-10-03 20:19:51+00:00         NaN  False   \n",
       "1           5452  2022-10-03 20:19:50+00:00         NaN  False   \n",
       "2             29  2022-10-03 20:19:46+00:00         NaN  False   \n",
       "3           6449  2022-10-03 20:19:45+00:00         NaN  False   \n",
       "4              0  2022-10-03 20:19:43+00:00         NaN  False   \n",
       "\n",
       "                                            hashtags  \\\n",
       "0                                                      \n",
       "0                                                 []   \n",
       "1                                                 []   \n",
       "2                                                 []   \n",
       "3                                                 []   \n",
       "4  [{'text': 'Florida', 'indices': [1, 9]}, {'tex...   \n",
       "\n",
       "                                                urls  \\\n",
       "0                                                      \n",
       "0                                                 []   \n",
       "1                                                 []   \n",
       "2                                                 []   \n",
       "3                                                 []   \n",
       "4  [{'url': 'https://t.co/RqcyAHAxtk', 'expanded_...   \n",
       "\n",
       "                                       user_mentions  is_quote  is_retweet  \n",
       "0                                                                           \n",
       "0  [{'screen_name': 'USNationalGuard', 'name': 'N...     False        True  \n",
       "1  [{'screen_name': 'glamelegance', 'name': 'Jule...     False        True  \n",
       "2  [{'screen_name': 'HomeDepotFound', 'name': 'Th...     False        True  \n",
       "3  [{'screen_name': 'TeamPelosi', 'name': 'Nancy ...     False        True  \n",
       "4                                                 []     False       False  "
      ]
     },
     "execution_count": 7,
     "metadata": {},
     "output_type": "execute_result"
    }
   ],
   "source": [
    "df.head()"
   ]
  },
  {
   "cell_type": "markdown",
   "metadata": {},
   "source": [
    "seperating out all the retweets"
   ]
  },
  {
   "cell_type": "code",
   "execution_count": 8,
   "metadata": {
    "ExecuteTime": {
     "end_time": "2022-11-13T18:39:02.576826Z",
     "start_time": "2022-11-13T18:39:02.566184Z"
    }
   },
   "outputs": [
    {
     "data": {
      "text/plain": [
       "(7652, 13)"
      ]
     },
     "execution_count": 8,
     "metadata": {},
     "output_type": "execute_result"
    }
   ],
   "source": [
    "df = df.loc[df['is_retweet'] == False]\n",
    "df.shape"
   ]
  },
  {
   "cell_type": "markdown",
   "metadata": {},
   "source": [
    "#### That was a LOT of Retweets! Retweets deserve their own analysis but for now I'm going to focus on original tweets. "
   ]
  },
  {
   "cell_type": "markdown",
   "metadata": {},
   "source": [
    "# Vader"
   ]
  },
  {
   "cell_type": "markdown",
   "metadata": {},
   "source": [
    "Vader Documentation: https://www.nltk.org/_modules/nltk/sentiment/vader.html"
   ]
  },
  {
   "cell_type": "markdown",
   "metadata": {},
   "source": [
    "Instantiating the vader analyzer and making a list of all the polarity scores"
   ]
  },
  {
   "cell_type": "code",
   "execution_count": 41,
   "metadata": {
    "ExecuteTime": {
     "end_time": "2022-11-02T18:13:41.813975Z",
     "start_time": "2022-11-02T18:13:41.101667Z"
    }
   },
   "outputs": [],
   "source": [
    "analyzer = SentimentIntensityAnalyzer()\n",
    "\n",
    "vader = [analyzer.polarity_scores(x) for x in df['text']]"
   ]
  },
  {
   "cell_type": "markdown",
   "metadata": {},
   "source": [
    "Turning that list into a column in the DF and taking a look"
   ]
  },
  {
   "cell_type": "code",
   "execution_count": 42,
   "metadata": {
    "ExecuteTime": {
     "end_time": "2022-11-02T18:13:43.698811Z",
     "start_time": "2022-11-02T18:13:43.677022Z"
    }
   },
   "outputs": [
    {
     "data": {
      "text/html": [
       "<div>\n",
       "<style scoped>\n",
       "    .dataframe tbody tr th:only-of-type {\n",
       "        vertical-align: middle;\n",
       "    }\n",
       "\n",
       "    .dataframe tbody tr th {\n",
       "        vertical-align: top;\n",
       "    }\n",
       "\n",
       "    .dataframe thead th {\n",
       "        text-align: right;\n",
       "    }\n",
       "</style>\n",
       "<table border=\"1\" class=\"dataframe\">\n",
       "  <thead>\n",
       "    <tr style=\"text-align: right;\">\n",
       "      <th></th>\n",
       "      <th>text</th>\n",
       "      <th>screen_name</th>\n",
       "      <th>user_description</th>\n",
       "      <th>favourite_count</th>\n",
       "      <th>retweet_count</th>\n",
       "      <th>created_at</th>\n",
       "      <th>replying_to</th>\n",
       "      <th>media</th>\n",
       "      <th>hashtags</th>\n",
       "      <th>urls</th>\n",
       "      <th>user_mentions</th>\n",
       "      <th>is_quote</th>\n",
       "      <th>is_retweet</th>\n",
       "      <th>vader</th>\n",
       "    </tr>\n",
       "  </thead>\n",
       "  <tbody>\n",
       "    <tr>\n",
       "      <th>4</th>\n",
       "      <td>“#Florida's death toll from #HurricaneIan tops...</td>\n",
       "      <td>AmPowerBlog</td>\n",
       "      <td>Sports Twitter is the best Twitter. 🏈🏇🎾🛹⚾🏌️😎🚴🏐...</td>\n",
       "      <td>0</td>\n",
       "      <td>0</td>\n",
       "      <td>2022-10-03 20:19:43+00:00</td>\n",
       "      <td>NaN</td>\n",
       "      <td>False</td>\n",
       "      <td>[{'text': 'Florida', 'indices': [1, 9]}, {'tex...</td>\n",
       "      <td>[{'url': 'https://t.co/RqcyAHAxtk', 'expanded_...</td>\n",
       "      <td>[]</td>\n",
       "      <td>False</td>\n",
       "      <td>False</td>\n",
       "      <td>{'neg': 0.176, 'neu': 0.676, 'pos': 0.149, 'co...</td>\n",
       "    </tr>\n",
       "    <tr>\n",
       "      <th>11</th>\n",
       "      <td>Republicans. can’t. be.  counted. on. to. do. ...</td>\n",
       "      <td>nivnos33</td>\n",
       "      <td>#RESISTER #Woke #Democrat #NeverGOP #VotingRig...</td>\n",
       "      <td>0</td>\n",
       "      <td>0</td>\n",
       "      <td>2022-10-03 20:19:22+00:00</td>\n",
       "      <td>NaN</td>\n",
       "      <td>False</td>\n",
       "      <td>[{'text': 'VoteOutEveryRepublican', 'indices':...</td>\n",
       "      <td>[{'url': 'https://t.co/Me3qmrzTsX', 'expanded_...</td>\n",
       "      <td>[]</td>\n",
       "      <td>True</td>\n",
       "      <td>False</td>\n",
       "      <td>{'neg': 0.0, 'neu': 1.0, 'pos': 0.0, 'compound...</td>\n",
       "    </tr>\n",
       "    <tr>\n",
       "      <th>16</th>\n",
       "      <td>Leadership you can Trust. 🦟 Make sure to like ...</td>\n",
       "      <td>TrishTheCommish</td>\n",
       "      <td>#Commissioner, #Mom, #PublicServant, #Mosquito...</td>\n",
       "      <td>2</td>\n",
       "      <td>0</td>\n",
       "      <td>2022-10-03 20:19:09+00:00</td>\n",
       "      <td>NaN</td>\n",
       "      <td>True</td>\n",
       "      <td>[{'text': 'leadbyexample', 'indices': [180, 19...</td>\n",
       "      <td>[]</td>\n",
       "      <td>[]</td>\n",
       "      <td>False</td>\n",
       "      <td>False</td>\n",
       "      <td>{'neg': 0.0, 'neu': 0.719, 'pos': 0.281, 'comp...</td>\n",
       "    </tr>\n",
       "    <tr>\n",
       "      <th>23</th>\n",
       "      <td>Hello Everyone,\\n1/3) Many Floridians face flo...</td>\n",
       "      <td>Find_and_Bind1</td>\n",
       "      <td>Amateur journalist, photographer, #bondage ent...</td>\n",
       "      <td>0</td>\n",
       "      <td>0</td>\n",
       "      <td>2022-10-03 20:18:56+00:00</td>\n",
       "      <td>NaN</td>\n",
       "      <td>False</td>\n",
       "      <td>[{'text': 'HurricaneIan', 'indices': [112, 125...</td>\n",
       "      <td>[{'url': 'https://t.co/lgO1y1sFsK', 'expanded_...</td>\n",
       "      <td>[]</td>\n",
       "      <td>False</td>\n",
       "      <td>False</td>\n",
       "      <td>{'neg': 0.139, 'neu': 0.779, 'pos': 0.082, 'co...</td>\n",
       "    </tr>\n",
       "    <tr>\n",
       "      <th>28</th>\n",
       "      <td>Lord, please be a refuge for those in need. Gi...</td>\n",
       "      <td>shellsfaith</td>\n",
       "      <td>My name is Shelly and this is where I will be ...</td>\n",
       "      <td>1</td>\n",
       "      <td>0</td>\n",
       "      <td>2022-10-03 20:18:45+00:00</td>\n",
       "      <td>NaN</td>\n",
       "      <td>False</td>\n",
       "      <td>[{'text': 'HurricaneIan', 'indices': [195, 208...</td>\n",
       "      <td>[{'url': 'https://t.co/M4c6nH2x1U', 'expanded_...</td>\n",
       "      <td>[]</td>\n",
       "      <td>True</td>\n",
       "      <td>False</td>\n",
       "      <td>{'neg': 0.093, 'neu': 0.692, 'pos': 0.215, 'co...</td>\n",
       "    </tr>\n",
       "  </tbody>\n",
       "</table>\n",
       "</div>"
      ],
      "text/plain": [
       "                                                 text      screen_name  \\\n",
       "4   “#Florida's death toll from #HurricaneIan tops...      AmPowerBlog   \n",
       "11  Republicans. can’t. be.  counted. on. to. do. ...         nivnos33   \n",
       "16  Leadership you can Trust. 🦟 Make sure to like ...  TrishTheCommish   \n",
       "23  Hello Everyone,\\n1/3) Many Floridians face flo...   Find_and_Bind1   \n",
       "28  Lord, please be a refuge for those in need. Gi...      shellsfaith   \n",
       "\n",
       "                                     user_description  favourite_count  \\\n",
       "4   Sports Twitter is the best Twitter. 🏈🏇🎾🛹⚾🏌️😎🚴🏐...                0   \n",
       "11  #RESISTER #Woke #Democrat #NeverGOP #VotingRig...                0   \n",
       "16  #Commissioner, #Mom, #PublicServant, #Mosquito...                2   \n",
       "23  Amateur journalist, photographer, #bondage ent...                0   \n",
       "28  My name is Shelly and this is where I will be ...                1   \n",
       "\n",
       "    retweet_count                 created_at replying_to  media  \\\n",
       "4               0  2022-10-03 20:19:43+00:00         NaN  False   \n",
       "11              0  2022-10-03 20:19:22+00:00         NaN  False   \n",
       "16              0  2022-10-03 20:19:09+00:00         NaN   True   \n",
       "23              0  2022-10-03 20:18:56+00:00         NaN  False   \n",
       "28              0  2022-10-03 20:18:45+00:00         NaN  False   \n",
       "\n",
       "                                             hashtags  \\\n",
       "4   [{'text': 'Florida', 'indices': [1, 9]}, {'tex...   \n",
       "11  [{'text': 'VoteOutEveryRepublican', 'indices':...   \n",
       "16  [{'text': 'leadbyexample', 'indices': [180, 19...   \n",
       "23  [{'text': 'HurricaneIan', 'indices': [112, 125...   \n",
       "28  [{'text': 'HurricaneIan', 'indices': [195, 208...   \n",
       "\n",
       "                                                 urls user_mentions  is_quote  \\\n",
       "4   [{'url': 'https://t.co/RqcyAHAxtk', 'expanded_...            []     False   \n",
       "11  [{'url': 'https://t.co/Me3qmrzTsX', 'expanded_...            []      True   \n",
       "16                                                 []            []     False   \n",
       "23  [{'url': 'https://t.co/lgO1y1sFsK', 'expanded_...            []     False   \n",
       "28  [{'url': 'https://t.co/M4c6nH2x1U', 'expanded_...            []      True   \n",
       "\n",
       "    is_retweet                                              vader  \n",
       "4        False  {'neg': 0.176, 'neu': 0.676, 'pos': 0.149, 'co...  \n",
       "11       False  {'neg': 0.0, 'neu': 1.0, 'pos': 0.0, 'compound...  \n",
       "16       False  {'neg': 0.0, 'neu': 0.719, 'pos': 0.281, 'comp...  \n",
       "23       False  {'neg': 0.139, 'neu': 0.779, 'pos': 0.082, 'co...  \n",
       "28       False  {'neg': 0.093, 'neu': 0.692, 'pos': 0.215, 'co...  "
      ]
     },
     "execution_count": 42,
     "metadata": {},
     "output_type": "execute_result"
    }
   ],
   "source": [
    "df['vader'] = vader\n",
    "df.head()"
   ]
  },
  {
   "cell_type": "markdown",
   "metadata": {},
   "source": [
    "# TextBlob"
   ]
  },
  {
   "cell_type": "markdown",
   "metadata": {},
   "source": [
    "TextBlob documentation: https://textblob.readthedocs.io/en/dev/quickstart.html"
   ]
  },
  {
   "cell_type": "markdown",
   "metadata": {},
   "source": [
    "Making an empty list and a for loop to loop through all texts in df, making a blob ojbect of each text passed through TextBlob class and appending that blob object to the text blob list. Then making that list into another DF column."
   ]
  },
  {
   "cell_type": "code",
   "execution_count": null,
   "metadata": {
    "ExecuteTime": {
     "start_time": "2022-11-13T21:36:11.021Z"
    }
   },
   "outputs": [],
   "source": [
    "text_blob = [TextBlob(x).sentiment.polarity for x in df['text']]"
   ]
  },
  {
   "cell_type": "code",
   "execution_count": 44,
   "metadata": {
    "ExecuteTime": {
     "end_time": "2022-11-02T18:13:48.296814Z",
     "start_time": "2022-11-02T18:13:48.274542Z"
    }
   },
   "outputs": [
    {
     "data": {
      "text/html": [
       "<div>\n",
       "<style scoped>\n",
       "    .dataframe tbody tr th:only-of-type {\n",
       "        vertical-align: middle;\n",
       "    }\n",
       "\n",
       "    .dataframe tbody tr th {\n",
       "        vertical-align: top;\n",
       "    }\n",
       "\n",
       "    .dataframe thead th {\n",
       "        text-align: right;\n",
       "    }\n",
       "</style>\n",
       "<table border=\"1\" class=\"dataframe\">\n",
       "  <thead>\n",
       "    <tr style=\"text-align: right;\">\n",
       "      <th></th>\n",
       "      <th>text</th>\n",
       "      <th>screen_name</th>\n",
       "      <th>user_description</th>\n",
       "      <th>favourite_count</th>\n",
       "      <th>retweet_count</th>\n",
       "      <th>created_at</th>\n",
       "      <th>replying_to</th>\n",
       "      <th>media</th>\n",
       "      <th>hashtags</th>\n",
       "      <th>urls</th>\n",
       "      <th>user_mentions</th>\n",
       "      <th>is_quote</th>\n",
       "      <th>is_retweet</th>\n",
       "      <th>vader</th>\n",
       "      <th>text_blob</th>\n",
       "    </tr>\n",
       "  </thead>\n",
       "  <tbody>\n",
       "    <tr>\n",
       "      <th>4</th>\n",
       "      <td>“#Florida's death toll from #HurricaneIan tops...</td>\n",
       "      <td>AmPowerBlog</td>\n",
       "      <td>Sports Twitter is the best Twitter. 🏈🏇🎾🛹⚾🏌️😎🚴🏐...</td>\n",
       "      <td>0</td>\n",
       "      <td>0</td>\n",
       "      <td>2022-10-03 20:19:43+00:00</td>\n",
       "      <td>NaN</td>\n",
       "      <td>False</td>\n",
       "      <td>[{'text': 'Florida', 'indices': [1, 9]}, {'tex...</td>\n",
       "      <td>[{'url': 'https://t.co/RqcyAHAxtk', 'expanded_...</td>\n",
       "      <td>[]</td>\n",
       "      <td>False</td>\n",
       "      <td>False</td>\n",
       "      <td>{'neg': 0.176, 'neu': 0.676, 'pos': 0.149, 'co...</td>\n",
       "      <td>0.000000</td>\n",
       "    </tr>\n",
       "    <tr>\n",
       "      <th>11</th>\n",
       "      <td>Republicans. can’t. be.  counted. on. to. do. ...</td>\n",
       "      <td>nivnos33</td>\n",
       "      <td>#RESISTER #Woke #Democrat #NeverGOP #VotingRig...</td>\n",
       "      <td>0</td>\n",
       "      <td>0</td>\n",
       "      <td>2022-10-03 20:19:22+00:00</td>\n",
       "      <td>NaN</td>\n",
       "      <td>False</td>\n",
       "      <td>[{'text': 'VoteOutEveryRepublican', 'indices':...</td>\n",
       "      <td>[{'url': 'https://t.co/Me3qmrzTsX', 'expanded_...</td>\n",
       "      <td>[]</td>\n",
       "      <td>True</td>\n",
       "      <td>False</td>\n",
       "      <td>{'neg': 0.0, 'neu': 1.0, 'pos': 0.0, 'compound...</td>\n",
       "      <td>0.285714</td>\n",
       "    </tr>\n",
       "    <tr>\n",
       "      <th>16</th>\n",
       "      <td>Leadership you can Trust. 🦟 Make sure to like ...</td>\n",
       "      <td>TrishTheCommish</td>\n",
       "      <td>#Commissioner, #Mom, #PublicServant, #Mosquito...</td>\n",
       "      <td>2</td>\n",
       "      <td>0</td>\n",
       "      <td>2022-10-03 20:19:09+00:00</td>\n",
       "      <td>NaN</td>\n",
       "      <td>True</td>\n",
       "      <td>[{'text': 'leadbyexample', 'indices': [180, 19...</td>\n",
       "      <td>[]</td>\n",
       "      <td>[]</td>\n",
       "      <td>False</td>\n",
       "      <td>False</td>\n",
       "      <td>{'neg': 0.0, 'neu': 0.719, 'pos': 0.281, 'comp...</td>\n",
       "      <td>0.625000</td>\n",
       "    </tr>\n",
       "    <tr>\n",
       "      <th>23</th>\n",
       "      <td>Hello Everyone,\\n1/3) Many Floridians face flo...</td>\n",
       "      <td>Find_and_Bind1</td>\n",
       "      <td>Amateur journalist, photographer, #bondage ent...</td>\n",
       "      <td>0</td>\n",
       "      <td>0</td>\n",
       "      <td>2022-10-03 20:18:56+00:00</td>\n",
       "      <td>NaN</td>\n",
       "      <td>False</td>\n",
       "      <td>[{'text': 'HurricaneIan', 'indices': [112, 125...</td>\n",
       "      <td>[{'url': 'https://t.co/lgO1y1sFsK', 'expanded_...</td>\n",
       "      <td>[]</td>\n",
       "      <td>False</td>\n",
       "      <td>False</td>\n",
       "      <td>{'neg': 0.139, 'neu': 0.779, 'pos': 0.082, 'co...</td>\n",
       "      <td>0.500000</td>\n",
       "    </tr>\n",
       "    <tr>\n",
       "      <th>28</th>\n",
       "      <td>Lord, please be a refuge for those in need. Gi...</td>\n",
       "      <td>shellsfaith</td>\n",
       "      <td>My name is Shelly and this is where I will be ...</td>\n",
       "      <td>1</td>\n",
       "      <td>0</td>\n",
       "      <td>2022-10-03 20:18:45+00:00</td>\n",
       "      <td>NaN</td>\n",
       "      <td>False</td>\n",
       "      <td>[{'text': 'HurricaneIan', 'indices': [195, 208...</td>\n",
       "      <td>[{'url': 'https://t.co/M4c6nH2x1U', 'expanded_...</td>\n",
       "      <td>[]</td>\n",
       "      <td>True</td>\n",
       "      <td>False</td>\n",
       "      <td>{'neg': 0.093, 'neu': 0.692, 'pos': 0.215, 'co...</td>\n",
       "      <td>-0.200000</td>\n",
       "    </tr>\n",
       "  </tbody>\n",
       "</table>\n",
       "</div>"
      ],
      "text/plain": [
       "                                                 text      screen_name  \\\n",
       "4   “#Florida's death toll from #HurricaneIan tops...      AmPowerBlog   \n",
       "11  Republicans. can’t. be.  counted. on. to. do. ...         nivnos33   \n",
       "16  Leadership you can Trust. 🦟 Make sure to like ...  TrishTheCommish   \n",
       "23  Hello Everyone,\\n1/3) Many Floridians face flo...   Find_and_Bind1   \n",
       "28  Lord, please be a refuge for those in need. Gi...      shellsfaith   \n",
       "\n",
       "                                     user_description  favourite_count  \\\n",
       "4   Sports Twitter is the best Twitter. 🏈🏇🎾🛹⚾🏌️😎🚴🏐...                0   \n",
       "11  #RESISTER #Woke #Democrat #NeverGOP #VotingRig...                0   \n",
       "16  #Commissioner, #Mom, #PublicServant, #Mosquito...                2   \n",
       "23  Amateur journalist, photographer, #bondage ent...                0   \n",
       "28  My name is Shelly and this is where I will be ...                1   \n",
       "\n",
       "    retweet_count                 created_at replying_to  media  \\\n",
       "4               0  2022-10-03 20:19:43+00:00         NaN  False   \n",
       "11              0  2022-10-03 20:19:22+00:00         NaN  False   \n",
       "16              0  2022-10-03 20:19:09+00:00         NaN   True   \n",
       "23              0  2022-10-03 20:18:56+00:00         NaN  False   \n",
       "28              0  2022-10-03 20:18:45+00:00         NaN  False   \n",
       "\n",
       "                                             hashtags  \\\n",
       "4   [{'text': 'Florida', 'indices': [1, 9]}, {'tex...   \n",
       "11  [{'text': 'VoteOutEveryRepublican', 'indices':...   \n",
       "16  [{'text': 'leadbyexample', 'indices': [180, 19...   \n",
       "23  [{'text': 'HurricaneIan', 'indices': [112, 125...   \n",
       "28  [{'text': 'HurricaneIan', 'indices': [195, 208...   \n",
       "\n",
       "                                                 urls user_mentions  is_quote  \\\n",
       "4   [{'url': 'https://t.co/RqcyAHAxtk', 'expanded_...            []     False   \n",
       "11  [{'url': 'https://t.co/Me3qmrzTsX', 'expanded_...            []      True   \n",
       "16                                                 []            []     False   \n",
       "23  [{'url': 'https://t.co/lgO1y1sFsK', 'expanded_...            []     False   \n",
       "28  [{'url': 'https://t.co/M4c6nH2x1U', 'expanded_...            []      True   \n",
       "\n",
       "    is_retweet                                              vader  text_blob  \n",
       "4        False  {'neg': 0.176, 'neu': 0.676, 'pos': 0.149, 'co...   0.000000  \n",
       "11       False  {'neg': 0.0, 'neu': 1.0, 'pos': 0.0, 'compound...   0.285714  \n",
       "16       False  {'neg': 0.0, 'neu': 0.719, 'pos': 0.281, 'comp...   0.625000  \n",
       "23       False  {'neg': 0.139, 'neu': 0.779, 'pos': 0.082, 'co...   0.500000  \n",
       "28       False  {'neg': 0.093, 'neu': 0.692, 'pos': 0.215, 'co...  -0.200000  "
      ]
     },
     "execution_count": 44,
     "metadata": {},
     "output_type": "execute_result"
    }
   ],
   "source": [
    "df.head()"
   ]
  },
  {
   "cell_type": "markdown",
   "metadata": {},
   "source": [
    "# BERT"
   ]
  },
  {
   "cell_type": "markdown",
   "metadata": {},
   "source": [
    "I am using an updated version of BERT from HuggingFace, this version of BERT has been trained on over 58 million tweets. Further reading: https://huggingface.co/cardiffnlp/twitter-roberta-base-sentiment?text=I+like+you.+I+love+you"
   ]
  },
  {
   "cell_type": "code",
   "execution_count": 9,
   "metadata": {
    "ExecuteTime": {
     "end_time": "2022-11-13T18:51:02.563689Z",
     "start_time": "2022-11-13T18:51:00.182461Z"
    }
   },
   "outputs": [
    {
     "data": {
      "application/vnd.jupyter.widget-view+json": {
       "model_id": "e07c586915cb440aa223da62a8df37d0",
       "version_major": 2,
       "version_minor": 0
      },
      "text/plain": [
       "Downloading:   0%|          | 0.00/1.48k [00:00<?, ?B/s]"
      ]
     },
     "metadata": {},
     "output_type": "display_data"
    },
    {
     "name": "stdout",
     "output_type": "stream",
     "text": [
      "Metal device set to: Apple M1\n"
     ]
    },
    {
     "name": "stderr",
     "output_type": "stream",
     "text": [
      "2022-11-13 13:51:00.706225: I tensorflow/core/common_runtime/pluggable_device/pluggable_device_factory.cc:306] Could not identify NUMA node of platform GPU ID 0, defaulting to 0. Your kernel may not have been built with NUMA support.\n",
      "2022-11-13 13:51:00.706367: I tensorflow/core/common_runtime/pluggable_device/pluggable_device_factory.cc:272] Created TensorFlow device (/job:localhost/replica:0/task:0/device:GPU:0 with 0 MB memory) -> physical PluggableDevice (device: 0, name: METAL, pci bus id: <undefined>)\n",
      "All model checkpoint layers were used when initializing TFRobertaForSequenceClassification.\n",
      "\n",
      "Some layers of TFRobertaForSequenceClassification were not initialized from the model checkpoint at cardiffnlp/twitter-roberta-base-sentiment-latest and are newly initialized: ['classifier']\n",
      "You should probably TRAIN this model on a down-stream task to be able to use it for predictions and inference.\n"
     ]
    }
   ],
   "source": [
    "cardiffnlp = pipeline(model=\"cardiffnlp/twitter-roberta-base-sentiment-latest\")"
   ]
  },
  {
   "cell_type": "markdown",
   "metadata": {},
   "source": [
    "Making an empty list for the BERT output and running all tweets in `df['text']` through the BERT model. Then adding those labels to the list. Finally, making that list into a column in the DF. "
   ]
  },
  {
   "cell_type": "code",
   "execution_count": null,
   "metadata": {
    "ExecuteTime": {
     "start_time": "2022-11-13T21:31:40.897Z"
    },
    "code_folding": []
   },
   "outputs": [],
   "source": [
    "# bert = []\n",
    "# for x in df['text']:\n",
    "#     label = cardiffnlp(x)\n",
    "#     bert.append(label)\n",
    "    \n",
    "# df['bert'] = bert\n",
    "\n",
    "bert = [cardiffnlp(x) for x in df['text'][0]]\n",
    "bert"
   ]
  },
  {
   "cell_type": "markdown",
   "metadata": {},
   "source": [
    "Taking a look at the DF as it stands with the three labels made. "
   ]
  },
  {
   "cell_type": "code",
   "execution_count": 47,
   "metadata": {
    "ExecuteTime": {
     "end_time": "2022-11-02T20:29:10.059184Z",
     "start_time": "2022-11-02T20:29:10.028650Z"
    }
   },
   "outputs": [
    {
     "data": {
      "text/html": [
       "<div>\n",
       "<style scoped>\n",
       "    .dataframe tbody tr th:only-of-type {\n",
       "        vertical-align: middle;\n",
       "    }\n",
       "\n",
       "    .dataframe tbody tr th {\n",
       "        vertical-align: top;\n",
       "    }\n",
       "\n",
       "    .dataframe thead th {\n",
       "        text-align: right;\n",
       "    }\n",
       "</style>\n",
       "<table border=\"1\" class=\"dataframe\">\n",
       "  <thead>\n",
       "    <tr style=\"text-align: right;\">\n",
       "      <th></th>\n",
       "      <th>text</th>\n",
       "      <th>screen_name</th>\n",
       "      <th>user_description</th>\n",
       "      <th>favourite_count</th>\n",
       "      <th>retweet_count</th>\n",
       "      <th>created_at</th>\n",
       "      <th>replying_to</th>\n",
       "      <th>media</th>\n",
       "      <th>hashtags</th>\n",
       "      <th>urls</th>\n",
       "      <th>user_mentions</th>\n",
       "      <th>is_quote</th>\n",
       "      <th>is_retweet</th>\n",
       "      <th>vader</th>\n",
       "      <th>text_blob</th>\n",
       "      <th>bert</th>\n",
       "    </tr>\n",
       "  </thead>\n",
       "  <tbody>\n",
       "    <tr>\n",
       "      <th>4</th>\n",
       "      <td>“#Florida's death toll from #HurricaneIan tops...</td>\n",
       "      <td>AmPowerBlog</td>\n",
       "      <td>Sports Twitter is the best Twitter. 🏈🏇🎾🛹⚾🏌️😎🚴🏐...</td>\n",
       "      <td>0</td>\n",
       "      <td>0</td>\n",
       "      <td>2022-10-03 20:19:43+00:00</td>\n",
       "      <td>NaN</td>\n",
       "      <td>False</td>\n",
       "      <td>[{'text': 'Florida', 'indices': [1, 9]}, {'tex...</td>\n",
       "      <td>[{'url': 'https://t.co/RqcyAHAxtk', 'expanded_...</td>\n",
       "      <td>[]</td>\n",
       "      <td>False</td>\n",
       "      <td>False</td>\n",
       "      <td>{'neg': 0.176, 'neu': 0.676, 'pos': 0.149, 'co...</td>\n",
       "      <td>0.000000</td>\n",
       "      <td>[{'label': 'Positive', 'score': 0.352827787399...</td>\n",
       "    </tr>\n",
       "    <tr>\n",
       "      <th>11</th>\n",
       "      <td>Republicans. can’t. be.  counted. on. to. do. ...</td>\n",
       "      <td>nivnos33</td>\n",
       "      <td>#RESISTER #Woke #Democrat #NeverGOP #VotingRig...</td>\n",
       "      <td>0</td>\n",
       "      <td>0</td>\n",
       "      <td>2022-10-03 20:19:22+00:00</td>\n",
       "      <td>NaN</td>\n",
       "      <td>False</td>\n",
       "      <td>[{'text': 'VoteOutEveryRepublican', 'indices':...</td>\n",
       "      <td>[{'url': 'https://t.co/Me3qmrzTsX', 'expanded_...</td>\n",
       "      <td>[]</td>\n",
       "      <td>True</td>\n",
       "      <td>False</td>\n",
       "      <td>{'neg': 0.0, 'neu': 1.0, 'pos': 0.0, 'compound...</td>\n",
       "      <td>0.285714</td>\n",
       "      <td>[{'label': 'Neutral', 'score': 0.3550549745559...</td>\n",
       "    </tr>\n",
       "    <tr>\n",
       "      <th>16</th>\n",
       "      <td>Leadership you can Trust. 🦟 Make sure to like ...</td>\n",
       "      <td>TrishTheCommish</td>\n",
       "      <td>#Commissioner, #Mom, #PublicServant, #Mosquito...</td>\n",
       "      <td>2</td>\n",
       "      <td>0</td>\n",
       "      <td>2022-10-03 20:19:09+00:00</td>\n",
       "      <td>NaN</td>\n",
       "      <td>True</td>\n",
       "      <td>[{'text': 'leadbyexample', 'indices': [180, 19...</td>\n",
       "      <td>[]</td>\n",
       "      <td>[]</td>\n",
       "      <td>False</td>\n",
       "      <td>False</td>\n",
       "      <td>{'neg': 0.0, 'neu': 0.719, 'pos': 0.281, 'comp...</td>\n",
       "      <td>0.625000</td>\n",
       "      <td>[{'label': 'Neutral', 'score': 0.4122076034545...</td>\n",
       "    </tr>\n",
       "    <tr>\n",
       "      <th>23</th>\n",
       "      <td>Hello Everyone,\\n1/3) Many Floridians face flo...</td>\n",
       "      <td>Find_and_Bind1</td>\n",
       "      <td>Amateur journalist, photographer, #bondage ent...</td>\n",
       "      <td>0</td>\n",
       "      <td>0</td>\n",
       "      <td>2022-10-03 20:18:56+00:00</td>\n",
       "      <td>NaN</td>\n",
       "      <td>False</td>\n",
       "      <td>[{'text': 'HurricaneIan', 'indices': [112, 125...</td>\n",
       "      <td>[{'url': 'https://t.co/lgO1y1sFsK', 'expanded_...</td>\n",
       "      <td>[]</td>\n",
       "      <td>False</td>\n",
       "      <td>False</td>\n",
       "      <td>{'neg': 0.139, 'neu': 0.779, 'pos': 0.082, 'co...</td>\n",
       "      <td>0.500000</td>\n",
       "      <td>[{'label': 'Positive', 'score': 0.351958453655...</td>\n",
       "    </tr>\n",
       "    <tr>\n",
       "      <th>28</th>\n",
       "      <td>Lord, please be a refuge for those in need. Gi...</td>\n",
       "      <td>shellsfaith</td>\n",
       "      <td>My name is Shelly and this is where I will be ...</td>\n",
       "      <td>1</td>\n",
       "      <td>0</td>\n",
       "      <td>2022-10-03 20:18:45+00:00</td>\n",
       "      <td>NaN</td>\n",
       "      <td>False</td>\n",
       "      <td>[{'text': 'HurricaneIan', 'indices': [195, 208...</td>\n",
       "      <td>[{'url': 'https://t.co/M4c6nH2x1U', 'expanded_...</td>\n",
       "      <td>[]</td>\n",
       "      <td>True</td>\n",
       "      <td>False</td>\n",
       "      <td>{'neg': 0.093, 'neu': 0.692, 'pos': 0.215, 'co...</td>\n",
       "      <td>-0.200000</td>\n",
       "      <td>[{'label': 'Neutral', 'score': 0.3944049477577...</td>\n",
       "    </tr>\n",
       "  </tbody>\n",
       "</table>\n",
       "</div>"
      ],
      "text/plain": [
       "                                                 text      screen_name  \\\n",
       "4   “#Florida's death toll from #HurricaneIan tops...      AmPowerBlog   \n",
       "11  Republicans. can’t. be.  counted. on. to. do. ...         nivnos33   \n",
       "16  Leadership you can Trust. 🦟 Make sure to like ...  TrishTheCommish   \n",
       "23  Hello Everyone,\\n1/3) Many Floridians face flo...   Find_and_Bind1   \n",
       "28  Lord, please be a refuge for those in need. Gi...      shellsfaith   \n",
       "\n",
       "                                     user_description  favourite_count  \\\n",
       "4   Sports Twitter is the best Twitter. 🏈🏇🎾🛹⚾🏌️😎🚴🏐...                0   \n",
       "11  #RESISTER #Woke #Democrat #NeverGOP #VotingRig...                0   \n",
       "16  #Commissioner, #Mom, #PublicServant, #Mosquito...                2   \n",
       "23  Amateur journalist, photographer, #bondage ent...                0   \n",
       "28  My name is Shelly and this is where I will be ...                1   \n",
       "\n",
       "    retweet_count                 created_at replying_to  media  \\\n",
       "4               0  2022-10-03 20:19:43+00:00         NaN  False   \n",
       "11              0  2022-10-03 20:19:22+00:00         NaN  False   \n",
       "16              0  2022-10-03 20:19:09+00:00         NaN   True   \n",
       "23              0  2022-10-03 20:18:56+00:00         NaN  False   \n",
       "28              0  2022-10-03 20:18:45+00:00         NaN  False   \n",
       "\n",
       "                                             hashtags  \\\n",
       "4   [{'text': 'Florida', 'indices': [1, 9]}, {'tex...   \n",
       "11  [{'text': 'VoteOutEveryRepublican', 'indices':...   \n",
       "16  [{'text': 'leadbyexample', 'indices': [180, 19...   \n",
       "23  [{'text': 'HurricaneIan', 'indices': [112, 125...   \n",
       "28  [{'text': 'HurricaneIan', 'indices': [195, 208...   \n",
       "\n",
       "                                                 urls user_mentions  is_quote  \\\n",
       "4   [{'url': 'https://t.co/RqcyAHAxtk', 'expanded_...            []     False   \n",
       "11  [{'url': 'https://t.co/Me3qmrzTsX', 'expanded_...            []      True   \n",
       "16                                                 []            []     False   \n",
       "23  [{'url': 'https://t.co/lgO1y1sFsK', 'expanded_...            []     False   \n",
       "28  [{'url': 'https://t.co/M4c6nH2x1U', 'expanded_...            []      True   \n",
       "\n",
       "    is_retweet                                              vader  text_blob  \\\n",
       "4        False  {'neg': 0.176, 'neu': 0.676, 'pos': 0.149, 'co...   0.000000   \n",
       "11       False  {'neg': 0.0, 'neu': 1.0, 'pos': 0.0, 'compound...   0.285714   \n",
       "16       False  {'neg': 0.0, 'neu': 0.719, 'pos': 0.281, 'comp...   0.625000   \n",
       "23       False  {'neg': 0.139, 'neu': 0.779, 'pos': 0.082, 'co...   0.500000   \n",
       "28       False  {'neg': 0.093, 'neu': 0.692, 'pos': 0.215, 'co...  -0.200000   \n",
       "\n",
       "                                                 bert  \n",
       "4   [{'label': 'Positive', 'score': 0.352827787399...  \n",
       "11  [{'label': 'Neutral', 'score': 0.3550549745559...  \n",
       "16  [{'label': 'Neutral', 'score': 0.4122076034545...  \n",
       "23  [{'label': 'Positive', 'score': 0.351958453655...  \n",
       "28  [{'label': 'Neutral', 'score': 0.3944049477577...  "
      ]
     },
     "execution_count": 47,
     "metadata": {},
     "output_type": "execute_result"
    }
   ],
   "source": [
    "df.head()"
   ]
  },
  {
   "cell_type": "markdown",
   "metadata": {},
   "source": [
    "Observations: Both BERT outputs and VADER outputs gave dictionary objects that must be further processed. ALSO it's important to note that all three voting classifyers operate on different scales in their numbered scoring! These will need to be scaled before making a final label which I will do in the next notebook. "
   ]
  },
  {
   "cell_type": "markdown",
   "metadata": {},
   "source": [
    "# Voting"
   ]
  },
  {
   "cell_type": "markdown",
   "metadata": {},
   "source": [
    "Fist I'll get the \"compound\" scores from Vader as this is a summery of all the Vader analysis. "
   ]
  },
  {
   "cell_type": "markdown",
   "metadata": {},
   "source": [
    "### Vader"
   ]
  },
  {
   "cell_type": "code",
   "execution_count": 48,
   "metadata": {
    "ExecuteTime": {
     "end_time": "2022-11-02T20:29:49.875928Z",
     "start_time": "2022-11-02T20:29:49.834418Z"
    }
   },
   "outputs": [
    {
     "data": {
      "text/html": [
       "<div>\n",
       "<style scoped>\n",
       "    .dataframe tbody tr th:only-of-type {\n",
       "        vertical-align: middle;\n",
       "    }\n",
       "\n",
       "    .dataframe tbody tr th {\n",
       "        vertical-align: top;\n",
       "    }\n",
       "\n",
       "    .dataframe thead th {\n",
       "        text-align: right;\n",
       "    }\n",
       "</style>\n",
       "<table border=\"1\" class=\"dataframe\">\n",
       "  <thead>\n",
       "    <tr style=\"text-align: right;\">\n",
       "      <th></th>\n",
       "      <th>text</th>\n",
       "      <th>screen_name</th>\n",
       "      <th>user_description</th>\n",
       "      <th>favourite_count</th>\n",
       "      <th>retweet_count</th>\n",
       "      <th>created_at</th>\n",
       "      <th>replying_to</th>\n",
       "      <th>media</th>\n",
       "      <th>hashtags</th>\n",
       "      <th>urls</th>\n",
       "      <th>user_mentions</th>\n",
       "      <th>is_quote</th>\n",
       "      <th>is_retweet</th>\n",
       "      <th>vader</th>\n",
       "      <th>text_blob</th>\n",
       "      <th>bert</th>\n",
       "      <th>vader_compound</th>\n",
       "    </tr>\n",
       "  </thead>\n",
       "  <tbody>\n",
       "    <tr>\n",
       "      <th>4</th>\n",
       "      <td>“#Florida's death toll from #HurricaneIan tops...</td>\n",
       "      <td>AmPowerBlog</td>\n",
       "      <td>Sports Twitter is the best Twitter. 🏈🏇🎾🛹⚾🏌️😎🚴🏐...</td>\n",
       "      <td>0</td>\n",
       "      <td>0</td>\n",
       "      <td>2022-10-03 20:19:43+00:00</td>\n",
       "      <td>NaN</td>\n",
       "      <td>False</td>\n",
       "      <td>[{'text': 'Florida', 'indices': [1, 9]}, {'tex...</td>\n",
       "      <td>[{'url': 'https://t.co/RqcyAHAxtk', 'expanded_...</td>\n",
       "      <td>[]</td>\n",
       "      <td>False</td>\n",
       "      <td>False</td>\n",
       "      <td>{'neg': 0.176, 'neu': 0.676, 'pos': 0.149, 'co...</td>\n",
       "      <td>0.000000</td>\n",
       "      <td>[{'label': 'Positive', 'score': 0.352827787399...</td>\n",
       "      <td>-0.1531</td>\n",
       "    </tr>\n",
       "    <tr>\n",
       "      <th>11</th>\n",
       "      <td>Republicans. can’t. be.  counted. on. to. do. ...</td>\n",
       "      <td>nivnos33</td>\n",
       "      <td>#RESISTER #Woke #Democrat #NeverGOP #VotingRig...</td>\n",
       "      <td>0</td>\n",
       "      <td>0</td>\n",
       "      <td>2022-10-03 20:19:22+00:00</td>\n",
       "      <td>NaN</td>\n",
       "      <td>False</td>\n",
       "      <td>[{'text': 'VoteOutEveryRepublican', 'indices':...</td>\n",
       "      <td>[{'url': 'https://t.co/Me3qmrzTsX', 'expanded_...</td>\n",
       "      <td>[]</td>\n",
       "      <td>True</td>\n",
       "      <td>False</td>\n",
       "      <td>{'neg': 0.0, 'neu': 1.0, 'pos': 0.0, 'compound...</td>\n",
       "      <td>0.285714</td>\n",
       "      <td>[{'label': 'Neutral', 'score': 0.3550549745559...</td>\n",
       "      <td>0.0000</td>\n",
       "    </tr>\n",
       "    <tr>\n",
       "      <th>16</th>\n",
       "      <td>Leadership you can Trust. 🦟 Make sure to like ...</td>\n",
       "      <td>TrishTheCommish</td>\n",
       "      <td>#Commissioner, #Mom, #PublicServant, #Mosquito...</td>\n",
       "      <td>2</td>\n",
       "      <td>0</td>\n",
       "      <td>2022-10-03 20:19:09+00:00</td>\n",
       "      <td>NaN</td>\n",
       "      <td>True</td>\n",
       "      <td>[{'text': 'leadbyexample', 'indices': [180, 19...</td>\n",
       "      <td>[]</td>\n",
       "      <td>[]</td>\n",
       "      <td>False</td>\n",
       "      <td>False</td>\n",
       "      <td>{'neg': 0.0, 'neu': 0.719, 'pos': 0.281, 'comp...</td>\n",
       "      <td>0.625000</td>\n",
       "      <td>[{'label': 'Neutral', 'score': 0.4122076034545...</td>\n",
       "      <td>0.9134</td>\n",
       "    </tr>\n",
       "    <tr>\n",
       "      <th>23</th>\n",
       "      <td>Hello Everyone,\\n1/3) Many Floridians face flo...</td>\n",
       "      <td>Find_and_Bind1</td>\n",
       "      <td>Amateur journalist, photographer, #bondage ent...</td>\n",
       "      <td>0</td>\n",
       "      <td>0</td>\n",
       "      <td>2022-10-03 20:18:56+00:00</td>\n",
       "      <td>NaN</td>\n",
       "      <td>False</td>\n",
       "      <td>[{'text': 'HurricaneIan', 'indices': [112, 125...</td>\n",
       "      <td>[{'url': 'https://t.co/lgO1y1sFsK', 'expanded_...</td>\n",
       "      <td>[]</td>\n",
       "      <td>False</td>\n",
       "      <td>False</td>\n",
       "      <td>{'neg': 0.139, 'neu': 0.779, 'pos': 0.082, 'co...</td>\n",
       "      <td>0.500000</td>\n",
       "      <td>[{'label': 'Positive', 'score': 0.351958453655...</td>\n",
       "      <td>-0.3182</td>\n",
       "    </tr>\n",
       "    <tr>\n",
       "      <th>28</th>\n",
       "      <td>Lord, please be a refuge for those in need. Gi...</td>\n",
       "      <td>shellsfaith</td>\n",
       "      <td>My name is Shelly and this is where I will be ...</td>\n",
       "      <td>1</td>\n",
       "      <td>0</td>\n",
       "      <td>2022-10-03 20:18:45+00:00</td>\n",
       "      <td>NaN</td>\n",
       "      <td>False</td>\n",
       "      <td>[{'text': 'HurricaneIan', 'indices': [195, 208...</td>\n",
       "      <td>[{'url': 'https://t.co/M4c6nH2x1U', 'expanded_...</td>\n",
       "      <td>[]</td>\n",
       "      <td>True</td>\n",
       "      <td>False</td>\n",
       "      <td>{'neg': 0.093, 'neu': 0.692, 'pos': 0.215, 'co...</td>\n",
       "      <td>-0.200000</td>\n",
       "      <td>[{'label': 'Neutral', 'score': 0.3944049477577...</td>\n",
       "      <td>0.7579</td>\n",
       "    </tr>\n",
       "  </tbody>\n",
       "</table>\n",
       "</div>"
      ],
      "text/plain": [
       "                                                 text      screen_name  \\\n",
       "4   “#Florida's death toll from #HurricaneIan tops...      AmPowerBlog   \n",
       "11  Republicans. can’t. be.  counted. on. to. do. ...         nivnos33   \n",
       "16  Leadership you can Trust. 🦟 Make sure to like ...  TrishTheCommish   \n",
       "23  Hello Everyone,\\n1/3) Many Floridians face flo...   Find_and_Bind1   \n",
       "28  Lord, please be a refuge for those in need. Gi...      shellsfaith   \n",
       "\n",
       "                                     user_description  favourite_count  \\\n",
       "4   Sports Twitter is the best Twitter. 🏈🏇🎾🛹⚾🏌️😎🚴🏐...                0   \n",
       "11  #RESISTER #Woke #Democrat #NeverGOP #VotingRig...                0   \n",
       "16  #Commissioner, #Mom, #PublicServant, #Mosquito...                2   \n",
       "23  Amateur journalist, photographer, #bondage ent...                0   \n",
       "28  My name is Shelly and this is where I will be ...                1   \n",
       "\n",
       "    retweet_count                 created_at replying_to  media  \\\n",
       "4               0  2022-10-03 20:19:43+00:00         NaN  False   \n",
       "11              0  2022-10-03 20:19:22+00:00         NaN  False   \n",
       "16              0  2022-10-03 20:19:09+00:00         NaN   True   \n",
       "23              0  2022-10-03 20:18:56+00:00         NaN  False   \n",
       "28              0  2022-10-03 20:18:45+00:00         NaN  False   \n",
       "\n",
       "                                             hashtags  \\\n",
       "4   [{'text': 'Florida', 'indices': [1, 9]}, {'tex...   \n",
       "11  [{'text': 'VoteOutEveryRepublican', 'indices':...   \n",
       "16  [{'text': 'leadbyexample', 'indices': [180, 19...   \n",
       "23  [{'text': 'HurricaneIan', 'indices': [112, 125...   \n",
       "28  [{'text': 'HurricaneIan', 'indices': [195, 208...   \n",
       "\n",
       "                                                 urls user_mentions  is_quote  \\\n",
       "4   [{'url': 'https://t.co/RqcyAHAxtk', 'expanded_...            []     False   \n",
       "11  [{'url': 'https://t.co/Me3qmrzTsX', 'expanded_...            []      True   \n",
       "16                                                 []            []     False   \n",
       "23  [{'url': 'https://t.co/lgO1y1sFsK', 'expanded_...            []     False   \n",
       "28  [{'url': 'https://t.co/M4c6nH2x1U', 'expanded_...            []      True   \n",
       "\n",
       "    is_retweet                                              vader  text_blob  \\\n",
       "4        False  {'neg': 0.176, 'neu': 0.676, 'pos': 0.149, 'co...   0.000000   \n",
       "11       False  {'neg': 0.0, 'neu': 1.0, 'pos': 0.0, 'compound...   0.285714   \n",
       "16       False  {'neg': 0.0, 'neu': 0.719, 'pos': 0.281, 'comp...   0.625000   \n",
       "23       False  {'neg': 0.139, 'neu': 0.779, 'pos': 0.082, 'co...   0.500000   \n",
       "28       False  {'neg': 0.093, 'neu': 0.692, 'pos': 0.215, 'co...  -0.200000   \n",
       "\n",
       "                                                 bert  vader_compound  \n",
       "4   [{'label': 'Positive', 'score': 0.352827787399...         -0.1531  \n",
       "11  [{'label': 'Neutral', 'score': 0.3550549745559...          0.0000  \n",
       "16  [{'label': 'Neutral', 'score': 0.4122076034545...          0.9134  \n",
       "23  [{'label': 'Positive', 'score': 0.351958453655...         -0.3182  \n",
       "28  [{'label': 'Neutral', 'score': 0.3944049477577...          0.7579  "
      ]
     },
     "execution_count": 48,
     "metadata": {},
     "output_type": "execute_result"
    }
   ],
   "source": [
    "df['vader_compound']  = df['vader'].apply(lambda score_dict: score_dict['compound'])\n",
    "\n",
    "df.head()\n"
   ]
  },
  {
   "cell_type": "markdown",
   "metadata": {},
   "source": [
    "I no longer need the Vader column so I'll drop it. "
   ]
  },
  {
   "cell_type": "code",
   "execution_count": 49,
   "metadata": {
    "ExecuteTime": {
     "end_time": "2022-11-02T20:30:10.569880Z",
     "start_time": "2022-11-02T20:30:10.545870Z"
    }
   },
   "outputs": [],
   "source": [
    "df = df.drop(columns='vader')"
   ]
  },
  {
   "cell_type": "markdown",
   "metadata": {},
   "source": [
    "### BERT"
   ]
  },
  {
   "cell_type": "markdown",
   "metadata": {},
   "source": [
    "Making an empty list and getting the 'label' from each row in the BERT column. \n",
    "\n",
    "I won't be using this label in my notebook as it is now, but I want to hold onto this label for future analysis, to see how my algorithm does only using BERT for sentiment instead of my current system using BERT, Vader and TextBlob. "
   ]
  },
  {
   "cell_type": "code",
   "execution_count": 50,
   "metadata": {
    "ExecuteTime": {
     "end_time": "2022-11-02T20:30:22.271613Z",
     "start_time": "2022-11-02T20:30:22.262308Z"
    }
   },
   "outputs": [],
   "source": [
    "bert_label = []\n",
    "\n",
    "for x in df['bert']:\n",
    "    bert_label.append(x[0]['label'])\n",
    "    \n",
    "df['bert_label'] = bert_label\n",
    "df.head()"
   ]
  },
  {
   "cell_type": "markdown",
   "metadata": {},
   "source": [
    "Separating out the BERT scores from the list within each row for analysis. This is the metric I'll be using in my next notebook. "
   ]
  },
  {
   "cell_type": "code",
   "execution_count": null,
   "metadata": {},
   "outputs": [],
   "source": [
    "bert_scores = [x.split(' ')[3][:-2] for x in df['bert']]\n",
    "df['bert_scores'] = bert_scores\n",
    "df = df.drop(columns = 'bert')\n",
    "df.head()"
   ]
  },
  {
   "cell_type": "markdown",
   "metadata": {},
   "source": [
    "Saving this as a CSV so it can be modeled and analyzed "
   ]
  },
  {
   "cell_type": "code",
   "execution_count": 52,
   "metadata": {
    "ExecuteTime": {
     "end_time": "2022-11-02T20:31:47.838945Z",
     "start_time": "2022-11-02T20:31:47.691320Z"
    }
   },
   "outputs": [],
   "source": [
    "df.to_csv(\"ready_for_analysis.csv\")"
   ]
  }
 ],
 "metadata": {
  "kernelspec": {
   "display_name": "mla",
   "language": "python",
   "name": "mla"
  },
  "language_info": {
   "codemirror_mode": {
    "name": "ipython",
    "version": 3
   },
   "file_extension": ".py",
   "mimetype": "text/x-python",
   "name": "python",
   "nbconvert_exporter": "python",
   "pygments_lexer": "ipython3",
   "version": "3.9.13"
  },
  "toc": {
   "base_numbering": 1,
   "nav_menu": {},
   "number_sections": true,
   "sideBar": true,
   "skip_h1_title": false,
   "title_cell": "Table of Contents",
   "title_sidebar": "Contents",
   "toc_cell": false,
   "toc_position": {},
   "toc_section_display": true,
   "toc_window_display": false
  }
 },
 "nbformat": 4,
 "nbformat_minor": 4
}
