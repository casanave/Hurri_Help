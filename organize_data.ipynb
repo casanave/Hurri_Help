{
 "cells": [
  {
   "cell_type": "code",
   "execution_count": 8,
   "metadata": {
    "ExecuteTime": {
     "end_time": "2022-10-13T00:51:03.004068Z",
     "start_time": "2022-10-13T00:51:03.000605Z"
    }
   },
   "outputs": [],
   "source": [
    "import pandas as pd\n",
    "import matplotlib.pyplot as plt"
   ]
  },
  {
   "cell_type": "code",
   "execution_count": 10,
   "metadata": {
    "ExecuteTime": {
     "end_time": "2022-10-13T00:51:24.848557Z",
     "start_time": "2022-10-13T00:51:24.670939Z"
    }
   },
   "outputs": [],
   "source": [
    "oct_10_1 = pd.read_csv(\"scraped_raw_data/output_Oct_10_test.csv.gz\", index_col = 0, header= None)"
   ]
  },
  {
   "cell_type": "code",
   "execution_count": 11,
   "metadata": {
    "ExecuteTime": {
     "end_time": "2022-10-13T00:51:29.525391Z",
     "start_time": "2022-10-13T00:51:29.484304Z"
    }
   },
   "outputs": [],
   "source": [
    "oct_10_2 = pd.read_csv(\"scraped_raw_data/output_Oct_10_2.csv.gz\", index_col = 0, header = None)"
   ]
  },
  {
   "cell_type": "code",
   "execution_count": 12,
   "metadata": {
    "ExecuteTime": {
     "end_time": "2022-10-13T00:51:34.098346Z",
     "start_time": "2022-10-13T00:51:33.916634Z"
    }
   },
   "outputs": [],
   "source": [
    "oct_10_3 = pd.read_csv(\"scraped_raw_data/output_Oct_10_3.csv.gz\", index_col = 0, header = None)"
   ]
  },
  {
   "cell_type": "code",
   "execution_count": 13,
   "metadata": {
    "ExecuteTime": {
     "end_time": "2022-10-13T00:51:39.275542Z",
     "start_time": "2022-10-13T00:51:39.140872Z"
    }
   },
   "outputs": [],
   "source": [
    "oct_12_1 = pd.read_csv(\"scraped_raw_data/output_Oct_12.csv.gz\", index_col = 0, header = None) "
   ]
  },
  {
   "cell_type": "code",
   "execution_count": 14,
   "metadata": {
    "ExecuteTime": {
     "end_time": "2022-10-13T00:51:44.062006Z",
     "start_time": "2022-10-13T00:51:43.892243Z"
    }
   },
   "outputs": [],
   "source": [
    "oct_12_2 = pd.read_csv(\"scraped_raw_data/output_Oct_12_am.csv.gz\", index_col = 0, header = None)"
   ]
  },
  {
   "cell_type": "code",
   "execution_count": 18,
   "metadata": {
    "ExecuteTime": {
     "end_time": "2022-10-13T00:52:23.717275Z",
     "start_time": "2022-10-13T00:52:23.276873Z"
    }
   },
   "outputs": [],
   "source": [
    "oct_12_3 = pd.read_csv(\"scraped_raw_data/output_Oct_12_pm.csv.gz\", index_col = 0, header = None)"
   ]
  },
  {
   "cell_type": "code",
   "execution_count": 19,
   "metadata": {
    "ExecuteTime": {
     "end_time": "2022-10-13T00:52:25.142208Z",
     "start_time": "2022-10-13T00:52:25.079641Z"
    }
   },
   "outputs": [],
   "source": [
    "dfs = [oct_10_1, oct_10_2, oct_10_3, oct_12_1, oct_12_2, oct_12_3]\n",
    "\n",
    "df = pd.concat(dfs)"
   ]
  },
  {
   "cell_type": "code",
   "execution_count": 20,
   "metadata": {
    "ExecuteTime": {
     "end_time": "2022-10-13T00:52:27.263847Z",
     "start_time": "2022-10-13T00:52:27.258727Z"
    }
   },
   "outputs": [
    {
     "data": {
      "text/plain": [
       "(100490, 12)"
      ]
     },
     "execution_count": 20,
     "metadata": {},
     "output_type": "execute_result"
    }
   ],
   "source": [
    "df.shape"
   ]
  },
  {
   "cell_type": "code",
   "execution_count": 21,
   "metadata": {
    "ExecuteTime": {
     "end_time": "2022-10-13T00:52:31.010245Z",
     "start_time": "2022-10-13T00:52:31.005619Z"
    }
   },
   "outputs": [],
   "source": [
    "df.columns = ['text', 'screen_name', 'user_description', 'favourite_count',\n",
    "              'retweet_count',\t'created_at', 'replying_to', 'media', \n",
    "              'hashtags', 'urls', 'user_mentions', 'is_quote']"
   ]
  },
  {
   "cell_type": "code",
   "execution_count": 22,
   "metadata": {
    "ExecuteTime": {
     "end_time": "2022-10-13T00:52:33.456713Z",
     "start_time": "2022-10-13T00:52:33.430654Z"
    }
   },
   "outputs": [
    {
     "data": {
      "text/html": [
       "<div>\n",
       "<style scoped>\n",
       "    .dataframe tbody tr th:only-of-type {\n",
       "        vertical-align: middle;\n",
       "    }\n",
       "\n",
       "    .dataframe tbody tr th {\n",
       "        vertical-align: top;\n",
       "    }\n",
       "\n",
       "    .dataframe thead th {\n",
       "        text-align: right;\n",
       "    }\n",
       "</style>\n",
       "<table border=\"1\" class=\"dataframe\">\n",
       "  <thead>\n",
       "    <tr style=\"text-align: right;\">\n",
       "      <th></th>\n",
       "      <th>text</th>\n",
       "      <th>screen_name</th>\n",
       "      <th>user_description</th>\n",
       "      <th>favourite_count</th>\n",
       "      <th>retweet_count</th>\n",
       "      <th>created_at</th>\n",
       "      <th>replying_to</th>\n",
       "      <th>media</th>\n",
       "      <th>hashtags</th>\n",
       "      <th>urls</th>\n",
       "      <th>user_mentions</th>\n",
       "      <th>is_quote</th>\n",
       "    </tr>\n",
       "    <tr>\n",
       "      <th>0</th>\n",
       "      <th></th>\n",
       "      <th></th>\n",
       "      <th></th>\n",
       "      <th></th>\n",
       "      <th></th>\n",
       "      <th></th>\n",
       "      <th></th>\n",
       "      <th></th>\n",
       "      <th></th>\n",
       "      <th></th>\n",
       "      <th></th>\n",
       "      <th></th>\n",
       "    </tr>\n",
       "  </thead>\n",
       "  <tbody>\n",
       "    <tr>\n",
       "      <th>0</th>\n",
       "      <td>RT @USNationalGuard: Today, approximately 5,20...</td>\n",
       "      <td>echristensen113</td>\n",
       "      <td>Native West Texan, avid gardener, skilled chef.</td>\n",
       "      <td>0</td>\n",
       "      <td>92</td>\n",
       "      <td>2022-10-03 20:19:51+00:00</td>\n",
       "      <td>NaN</td>\n",
       "      <td>False</td>\n",
       "      <td>[]</td>\n",
       "      <td>[]</td>\n",
       "      <td>[{'screen_name': 'USNationalGuard', 'name': 'N...</td>\n",
       "      <td>False</td>\n",
       "    </tr>\n",
       "    <tr>\n",
       "      <th>1</th>\n",
       "      <td>RT @glamelegance: Is it just me, or does anyon...</td>\n",
       "      <td>BlanketFtBliss</td>\n",
       "      <td>NaN</td>\n",
       "      <td>0</td>\n",
       "      <td>5452</td>\n",
       "      <td>2022-10-03 20:19:50+00:00</td>\n",
       "      <td>NaN</td>\n",
       "      <td>False</td>\n",
       "      <td>[]</td>\n",
       "      <td>[]</td>\n",
       "      <td>[{'screen_name': 'glamelegance', 'name': 'Jule...</td>\n",
       "      <td>False</td>\n",
       "    </tr>\n",
       "    <tr>\n",
       "      <th>2</th>\n",
       "      <td>RT @HomeDepotFound: Over the weekend, one of o...</td>\n",
       "      <td>EBadger76</td>\n",
       "      <td>Asset Protection Supervisor at Redlands 5087! ...</td>\n",
       "      <td>0</td>\n",
       "      <td>29</td>\n",
       "      <td>2022-10-03 20:19:46+00:00</td>\n",
       "      <td>NaN</td>\n",
       "      <td>False</td>\n",
       "      <td>[]</td>\n",
       "      <td>[]</td>\n",
       "      <td>[{'screen_name': 'HomeDepotFound', 'name': 'Th...</td>\n",
       "      <td>False</td>\n",
       "    </tr>\n",
       "    <tr>\n",
       "      <th>3</th>\n",
       "      <td>RT @TeamPelosi: ALL House Democrats said YES t...</td>\n",
       "      <td>kenneyy88</td>\n",
       "      <td>NaN</td>\n",
       "      <td>0</td>\n",
       "      <td>6449</td>\n",
       "      <td>2022-10-03 20:19:45+00:00</td>\n",
       "      <td>NaN</td>\n",
       "      <td>False</td>\n",
       "      <td>[]</td>\n",
       "      <td>[]</td>\n",
       "      <td>[{'screen_name': 'TeamPelosi', 'name': 'Nancy ...</td>\n",
       "      <td>False</td>\n",
       "    </tr>\n",
       "    <tr>\n",
       "      <th>4</th>\n",
       "      <td>“#Florida's death toll from #HurricaneIan tops...</td>\n",
       "      <td>AmPowerBlog</td>\n",
       "      <td>Sports Twitter is the best Twitter. 🏈🏇🎾🛹⚾🏌️😎🚴🏐...</td>\n",
       "      <td>0</td>\n",
       "      <td>0</td>\n",
       "      <td>2022-10-03 20:19:43+00:00</td>\n",
       "      <td>NaN</td>\n",
       "      <td>False</td>\n",
       "      <td>[{'text': 'Florida', 'indices': [1, 9]}, {'tex...</td>\n",
       "      <td>[{'url': 'https://t.co/RqcyAHAxtk', 'expanded_...</td>\n",
       "      <td>[]</td>\n",
       "      <td>False</td>\n",
       "    </tr>\n",
       "  </tbody>\n",
       "</table>\n",
       "</div>"
      ],
      "text/plain": [
       "                                                text      screen_name  \\\n",
       "0                                                                       \n",
       "0  RT @USNationalGuard: Today, approximately 5,20...  echristensen113   \n",
       "1  RT @glamelegance: Is it just me, or does anyon...   BlanketFtBliss   \n",
       "2  RT @HomeDepotFound: Over the weekend, one of o...        EBadger76   \n",
       "3  RT @TeamPelosi: ALL House Democrats said YES t...        kenneyy88   \n",
       "4  “#Florida's death toll from #HurricaneIan tops...      AmPowerBlog   \n",
       "\n",
       "                                    user_description  favourite_count  \\\n",
       "0                                                                       \n",
       "0    Native West Texan, avid gardener, skilled chef.                0   \n",
       "1                                                NaN                0   \n",
       "2  Asset Protection Supervisor at Redlands 5087! ...                0   \n",
       "3                                                NaN                0   \n",
       "4  Sports Twitter is the best Twitter. 🏈🏇🎾🛹⚾🏌️😎🚴🏐...                0   \n",
       "\n",
       "   retweet_count                 created_at replying_to  media  \\\n",
       "0                                                                \n",
       "0             92  2022-10-03 20:19:51+00:00         NaN  False   \n",
       "1           5452  2022-10-03 20:19:50+00:00         NaN  False   \n",
       "2             29  2022-10-03 20:19:46+00:00         NaN  False   \n",
       "3           6449  2022-10-03 20:19:45+00:00         NaN  False   \n",
       "4              0  2022-10-03 20:19:43+00:00         NaN  False   \n",
       "\n",
       "                                            hashtags  \\\n",
       "0                                                      \n",
       "0                                                 []   \n",
       "1                                                 []   \n",
       "2                                                 []   \n",
       "3                                                 []   \n",
       "4  [{'text': 'Florida', 'indices': [1, 9]}, {'tex...   \n",
       "\n",
       "                                                urls  \\\n",
       "0                                                      \n",
       "0                                                 []   \n",
       "1                                                 []   \n",
       "2                                                 []   \n",
       "3                                                 []   \n",
       "4  [{'url': 'https://t.co/RqcyAHAxtk', 'expanded_...   \n",
       "\n",
       "                                       user_mentions  is_quote  \n",
       "0                                                               \n",
       "0  [{'screen_name': 'USNationalGuard', 'name': 'N...     False  \n",
       "1  [{'screen_name': 'glamelegance', 'name': 'Jule...     False  \n",
       "2  [{'screen_name': 'HomeDepotFound', 'name': 'Th...     False  \n",
       "3  [{'screen_name': 'TeamPelosi', 'name': 'Nancy ...     False  \n",
       "4                                                 []     False  "
      ]
     },
     "execution_count": 22,
     "metadata": {},
     "output_type": "execute_result"
    }
   ],
   "source": [
    "df.head()"
   ]
  },
  {
   "cell_type": "code",
   "execution_count": 23,
   "metadata": {
    "ExecuteTime": {
     "end_time": "2022-10-13T00:52:37.399181Z",
     "start_time": "2022-10-13T00:52:37.287951Z"
    }
   },
   "outputs": [],
   "source": [
    "dd = df.drop_duplicates(subset=['text', 'screen_name'])"
   ]
  },
  {
   "cell_type": "code",
   "execution_count": 24,
   "metadata": {
    "ExecuteTime": {
     "end_time": "2022-10-13T00:52:38.911719Z",
     "start_time": "2022-10-13T00:52:38.907426Z"
    }
   },
   "outputs": [
    {
     "data": {
      "text/plain": [
       "(47690, 12)"
      ]
     },
     "execution_count": 24,
     "metadata": {},
     "output_type": "execute_result"
    }
   ],
   "source": [
    "dd.shape"
   ]
  },
  {
   "cell_type": "code",
   "execution_count": 25,
   "metadata": {
    "ExecuteTime": {
     "end_time": "2022-10-13T00:52:47.832184Z",
     "start_time": "2022-10-13T00:52:47.808213Z"
    },
    "scrolled": true
   },
   "outputs": [
    {
     "data": {
      "text/html": [
       "<div>\n",
       "<style scoped>\n",
       "    .dataframe tbody tr th:only-of-type {\n",
       "        vertical-align: middle;\n",
       "    }\n",
       "\n",
       "    .dataframe tbody tr th {\n",
       "        vertical-align: top;\n",
       "    }\n",
       "\n",
       "    .dataframe thead th {\n",
       "        text-align: right;\n",
       "    }\n",
       "</style>\n",
       "<table border=\"1\" class=\"dataframe\">\n",
       "  <thead>\n",
       "    <tr style=\"text-align: right;\">\n",
       "      <th></th>\n",
       "      <th>text</th>\n",
       "      <th>screen_name</th>\n",
       "      <th>user_description</th>\n",
       "      <th>favourite_count</th>\n",
       "      <th>retweet_count</th>\n",
       "      <th>created_at</th>\n",
       "      <th>replying_to</th>\n",
       "      <th>media</th>\n",
       "      <th>hashtags</th>\n",
       "      <th>urls</th>\n",
       "      <th>user_mentions</th>\n",
       "      <th>is_quote</th>\n",
       "    </tr>\n",
       "    <tr>\n",
       "      <th>0</th>\n",
       "      <th></th>\n",
       "      <th></th>\n",
       "      <th></th>\n",
       "      <th></th>\n",
       "      <th></th>\n",
       "      <th></th>\n",
       "      <th></th>\n",
       "      <th></th>\n",
       "      <th></th>\n",
       "      <th></th>\n",
       "      <th></th>\n",
       "      <th></th>\n",
       "    </tr>\n",
       "  </thead>\n",
       "  <tbody>\n",
       "    <tr>\n",
       "      <th>0</th>\n",
       "      <td>RT @USNationalGuard: Today, approximately 5,20...</td>\n",
       "      <td>echristensen113</td>\n",
       "      <td>Native West Texan, avid gardener, skilled chef.</td>\n",
       "      <td>0</td>\n",
       "      <td>92</td>\n",
       "      <td>2022-10-03 20:19:51+00:00</td>\n",
       "      <td>NaN</td>\n",
       "      <td>False</td>\n",
       "      <td>[]</td>\n",
       "      <td>[]</td>\n",
       "      <td>[{'screen_name': 'USNationalGuard', 'name': 'N...</td>\n",
       "      <td>False</td>\n",
       "    </tr>\n",
       "    <tr>\n",
       "      <th>1</th>\n",
       "      <td>RT @glamelegance: Is it just me, or does anyon...</td>\n",
       "      <td>BlanketFtBliss</td>\n",
       "      <td>NaN</td>\n",
       "      <td>0</td>\n",
       "      <td>5452</td>\n",
       "      <td>2022-10-03 20:19:50+00:00</td>\n",
       "      <td>NaN</td>\n",
       "      <td>False</td>\n",
       "      <td>[]</td>\n",
       "      <td>[]</td>\n",
       "      <td>[{'screen_name': 'glamelegance', 'name': 'Jule...</td>\n",
       "      <td>False</td>\n",
       "    </tr>\n",
       "    <tr>\n",
       "      <th>2</th>\n",
       "      <td>RT @HomeDepotFound: Over the weekend, one of o...</td>\n",
       "      <td>EBadger76</td>\n",
       "      <td>Asset Protection Supervisor at Redlands 5087! ...</td>\n",
       "      <td>0</td>\n",
       "      <td>29</td>\n",
       "      <td>2022-10-03 20:19:46+00:00</td>\n",
       "      <td>NaN</td>\n",
       "      <td>False</td>\n",
       "      <td>[]</td>\n",
       "      <td>[]</td>\n",
       "      <td>[{'screen_name': 'HomeDepotFound', 'name': 'Th...</td>\n",
       "      <td>False</td>\n",
       "    </tr>\n",
       "    <tr>\n",
       "      <th>3</th>\n",
       "      <td>RT @TeamPelosi: ALL House Democrats said YES t...</td>\n",
       "      <td>kenneyy88</td>\n",
       "      <td>NaN</td>\n",
       "      <td>0</td>\n",
       "      <td>6449</td>\n",
       "      <td>2022-10-03 20:19:45+00:00</td>\n",
       "      <td>NaN</td>\n",
       "      <td>False</td>\n",
       "      <td>[]</td>\n",
       "      <td>[]</td>\n",
       "      <td>[{'screen_name': 'TeamPelosi', 'name': 'Nancy ...</td>\n",
       "      <td>False</td>\n",
       "    </tr>\n",
       "    <tr>\n",
       "      <th>4</th>\n",
       "      <td>“#Florida's death toll from #HurricaneIan tops...</td>\n",
       "      <td>AmPowerBlog</td>\n",
       "      <td>Sports Twitter is the best Twitter. 🏈🏇🎾🛹⚾🏌️😎🚴🏐...</td>\n",
       "      <td>0</td>\n",
       "      <td>0</td>\n",
       "      <td>2022-10-03 20:19:43+00:00</td>\n",
       "      <td>NaN</td>\n",
       "      <td>False</td>\n",
       "      <td>[{'text': 'Florida', 'indices': [1, 9]}, {'tex...</td>\n",
       "      <td>[{'url': 'https://t.co/RqcyAHAxtk', 'expanded_...</td>\n",
       "      <td>[]</td>\n",
       "      <td>False</td>\n",
       "    </tr>\n",
       "  </tbody>\n",
       "</table>\n",
       "</div>"
      ],
      "text/plain": [
       "                                                text      screen_name  \\\n",
       "0                                                                       \n",
       "0  RT @USNationalGuard: Today, approximately 5,20...  echristensen113   \n",
       "1  RT @glamelegance: Is it just me, or does anyon...   BlanketFtBliss   \n",
       "2  RT @HomeDepotFound: Over the weekend, one of o...        EBadger76   \n",
       "3  RT @TeamPelosi: ALL House Democrats said YES t...        kenneyy88   \n",
       "4  “#Florida's death toll from #HurricaneIan tops...      AmPowerBlog   \n",
       "\n",
       "                                    user_description  favourite_count  \\\n",
       "0                                                                       \n",
       "0    Native West Texan, avid gardener, skilled chef.                0   \n",
       "1                                                NaN                0   \n",
       "2  Asset Protection Supervisor at Redlands 5087! ...                0   \n",
       "3                                                NaN                0   \n",
       "4  Sports Twitter is the best Twitter. 🏈🏇🎾🛹⚾🏌️😎🚴🏐...                0   \n",
       "\n",
       "   retweet_count                 created_at replying_to  media  \\\n",
       "0                                                                \n",
       "0             92  2022-10-03 20:19:51+00:00         NaN  False   \n",
       "1           5452  2022-10-03 20:19:50+00:00         NaN  False   \n",
       "2             29  2022-10-03 20:19:46+00:00         NaN  False   \n",
       "3           6449  2022-10-03 20:19:45+00:00         NaN  False   \n",
       "4              0  2022-10-03 20:19:43+00:00         NaN  False   \n",
       "\n",
       "                                            hashtags  \\\n",
       "0                                                      \n",
       "0                                                 []   \n",
       "1                                                 []   \n",
       "2                                                 []   \n",
       "3                                                 []   \n",
       "4  [{'text': 'Florida', 'indices': [1, 9]}, {'tex...   \n",
       "\n",
       "                                                urls  \\\n",
       "0                                                      \n",
       "0                                                 []   \n",
       "1                                                 []   \n",
       "2                                                 []   \n",
       "3                                                 []   \n",
       "4  [{'url': 'https://t.co/RqcyAHAxtk', 'expanded_...   \n",
       "\n",
       "                                       user_mentions  is_quote  \n",
       "0                                                               \n",
       "0  [{'screen_name': 'USNationalGuard', 'name': 'N...     False  \n",
       "1  [{'screen_name': 'glamelegance', 'name': 'Jule...     False  \n",
       "2  [{'screen_name': 'HomeDepotFound', 'name': 'Th...     False  \n",
       "3  [{'screen_name': 'TeamPelosi', 'name': 'Nancy ...     False  \n",
       "4                                                 []     False  "
      ]
     },
     "execution_count": 25,
     "metadata": {},
     "output_type": "execute_result"
    }
   ],
   "source": [
    "dd.head()"
   ]
  },
  {
   "cell_type": "code",
   "execution_count": 27,
   "metadata": {
    "ExecuteTime": {
     "end_time": "2022-10-13T00:53:45.726874Z",
     "start_time": "2022-10-13T00:53:45.679499Z"
    }
   },
   "outputs": [],
   "source": [
    "is_retweet = []\n",
    "\n",
    "for tweet in dd['text']:\n",
    "    if tweet.startswith(\"RT\"):\n",
    "        is_retweet.append(True)\n",
    "    else:\n",
    "        is_retweet.append(False)"
   ]
  },
  {
   "cell_type": "code",
   "execution_count": 28,
   "metadata": {
    "ExecuteTime": {
     "end_time": "2022-10-13T00:54:08.376582Z",
     "start_time": "2022-10-13T00:54:08.340310Z"
    }
   },
   "outputs": [
    {
     "name": "stderr",
     "output_type": "stream",
     "text": [
      "<ipython-input-28-a344cc652172>:1: SettingWithCopyWarning: \n",
      "A value is trying to be set on a copy of a slice from a DataFrame.\n",
      "Try using .loc[row_indexer,col_indexer] = value instead\n",
      "\n",
      "See the caveats in the documentation: https://pandas.pydata.org/pandas-docs/stable/user_guide/indexing.html#returning-a-view-versus-a-copy\n",
      "  dd['is_retweet'] = is_retweet\n"
     ]
    },
    {
     "data": {
      "text/html": [
       "<div>\n",
       "<style scoped>\n",
       "    .dataframe tbody tr th:only-of-type {\n",
       "        vertical-align: middle;\n",
       "    }\n",
       "\n",
       "    .dataframe tbody tr th {\n",
       "        vertical-align: top;\n",
       "    }\n",
       "\n",
       "    .dataframe thead th {\n",
       "        text-align: right;\n",
       "    }\n",
       "</style>\n",
       "<table border=\"1\" class=\"dataframe\">\n",
       "  <thead>\n",
       "    <tr style=\"text-align: right;\">\n",
       "      <th></th>\n",
       "      <th>text</th>\n",
       "      <th>screen_name</th>\n",
       "      <th>user_description</th>\n",
       "      <th>favourite_count</th>\n",
       "      <th>retweet_count</th>\n",
       "      <th>created_at</th>\n",
       "      <th>replying_to</th>\n",
       "      <th>media</th>\n",
       "      <th>hashtags</th>\n",
       "      <th>urls</th>\n",
       "      <th>user_mentions</th>\n",
       "      <th>is_quote</th>\n",
       "      <th>is_retweet</th>\n",
       "    </tr>\n",
       "    <tr>\n",
       "      <th>0</th>\n",
       "      <th></th>\n",
       "      <th></th>\n",
       "      <th></th>\n",
       "      <th></th>\n",
       "      <th></th>\n",
       "      <th></th>\n",
       "      <th></th>\n",
       "      <th></th>\n",
       "      <th></th>\n",
       "      <th></th>\n",
       "      <th></th>\n",
       "      <th></th>\n",
       "      <th></th>\n",
       "    </tr>\n",
       "  </thead>\n",
       "  <tbody>\n",
       "    <tr>\n",
       "      <th>0</th>\n",
       "      <td>RT @USNationalGuard: Today, approximately 5,20...</td>\n",
       "      <td>echristensen113</td>\n",
       "      <td>Native West Texan, avid gardener, skilled chef.</td>\n",
       "      <td>0</td>\n",
       "      <td>92</td>\n",
       "      <td>2022-10-03 20:19:51+00:00</td>\n",
       "      <td>NaN</td>\n",
       "      <td>False</td>\n",
       "      <td>[]</td>\n",
       "      <td>[]</td>\n",
       "      <td>[{'screen_name': 'USNationalGuard', 'name': 'N...</td>\n",
       "      <td>False</td>\n",
       "      <td>True</td>\n",
       "    </tr>\n",
       "    <tr>\n",
       "      <th>1</th>\n",
       "      <td>RT @glamelegance: Is it just me, or does anyon...</td>\n",
       "      <td>BlanketFtBliss</td>\n",
       "      <td>NaN</td>\n",
       "      <td>0</td>\n",
       "      <td>5452</td>\n",
       "      <td>2022-10-03 20:19:50+00:00</td>\n",
       "      <td>NaN</td>\n",
       "      <td>False</td>\n",
       "      <td>[]</td>\n",
       "      <td>[]</td>\n",
       "      <td>[{'screen_name': 'glamelegance', 'name': 'Jule...</td>\n",
       "      <td>False</td>\n",
       "      <td>True</td>\n",
       "    </tr>\n",
       "    <tr>\n",
       "      <th>2</th>\n",
       "      <td>RT @HomeDepotFound: Over the weekend, one of o...</td>\n",
       "      <td>EBadger76</td>\n",
       "      <td>Asset Protection Supervisor at Redlands 5087! ...</td>\n",
       "      <td>0</td>\n",
       "      <td>29</td>\n",
       "      <td>2022-10-03 20:19:46+00:00</td>\n",
       "      <td>NaN</td>\n",
       "      <td>False</td>\n",
       "      <td>[]</td>\n",
       "      <td>[]</td>\n",
       "      <td>[{'screen_name': 'HomeDepotFound', 'name': 'Th...</td>\n",
       "      <td>False</td>\n",
       "      <td>True</td>\n",
       "    </tr>\n",
       "    <tr>\n",
       "      <th>3</th>\n",
       "      <td>RT @TeamPelosi: ALL House Democrats said YES t...</td>\n",
       "      <td>kenneyy88</td>\n",
       "      <td>NaN</td>\n",
       "      <td>0</td>\n",
       "      <td>6449</td>\n",
       "      <td>2022-10-03 20:19:45+00:00</td>\n",
       "      <td>NaN</td>\n",
       "      <td>False</td>\n",
       "      <td>[]</td>\n",
       "      <td>[]</td>\n",
       "      <td>[{'screen_name': 'TeamPelosi', 'name': 'Nancy ...</td>\n",
       "      <td>False</td>\n",
       "      <td>True</td>\n",
       "    </tr>\n",
       "    <tr>\n",
       "      <th>4</th>\n",
       "      <td>“#Florida's death toll from #HurricaneIan tops...</td>\n",
       "      <td>AmPowerBlog</td>\n",
       "      <td>Sports Twitter is the best Twitter. 🏈🏇🎾🛹⚾🏌️😎🚴🏐...</td>\n",
       "      <td>0</td>\n",
       "      <td>0</td>\n",
       "      <td>2022-10-03 20:19:43+00:00</td>\n",
       "      <td>NaN</td>\n",
       "      <td>False</td>\n",
       "      <td>[{'text': 'Florida', 'indices': [1, 9]}, {'tex...</td>\n",
       "      <td>[{'url': 'https://t.co/RqcyAHAxtk', 'expanded_...</td>\n",
       "      <td>[]</td>\n",
       "      <td>False</td>\n",
       "      <td>False</td>\n",
       "    </tr>\n",
       "  </tbody>\n",
       "</table>\n",
       "</div>"
      ],
      "text/plain": [
       "                                                text      screen_name  \\\n",
       "0                                                                       \n",
       "0  RT @USNationalGuard: Today, approximately 5,20...  echristensen113   \n",
       "1  RT @glamelegance: Is it just me, or does anyon...   BlanketFtBliss   \n",
       "2  RT @HomeDepotFound: Over the weekend, one of o...        EBadger76   \n",
       "3  RT @TeamPelosi: ALL House Democrats said YES t...        kenneyy88   \n",
       "4  “#Florida's death toll from #HurricaneIan tops...      AmPowerBlog   \n",
       "\n",
       "                                    user_description  favourite_count  \\\n",
       "0                                                                       \n",
       "0    Native West Texan, avid gardener, skilled chef.                0   \n",
       "1                                                NaN                0   \n",
       "2  Asset Protection Supervisor at Redlands 5087! ...                0   \n",
       "3                                                NaN                0   \n",
       "4  Sports Twitter is the best Twitter. 🏈🏇🎾🛹⚾🏌️😎🚴🏐...                0   \n",
       "\n",
       "   retweet_count                 created_at replying_to  media  \\\n",
       "0                                                                \n",
       "0             92  2022-10-03 20:19:51+00:00         NaN  False   \n",
       "1           5452  2022-10-03 20:19:50+00:00         NaN  False   \n",
       "2             29  2022-10-03 20:19:46+00:00         NaN  False   \n",
       "3           6449  2022-10-03 20:19:45+00:00         NaN  False   \n",
       "4              0  2022-10-03 20:19:43+00:00         NaN  False   \n",
       "\n",
       "                                            hashtags  \\\n",
       "0                                                      \n",
       "0                                                 []   \n",
       "1                                                 []   \n",
       "2                                                 []   \n",
       "3                                                 []   \n",
       "4  [{'text': 'Florida', 'indices': [1, 9]}, {'tex...   \n",
       "\n",
       "                                                urls  \\\n",
       "0                                                      \n",
       "0                                                 []   \n",
       "1                                                 []   \n",
       "2                                                 []   \n",
       "3                                                 []   \n",
       "4  [{'url': 'https://t.co/RqcyAHAxtk', 'expanded_...   \n",
       "\n",
       "                                       user_mentions  is_quote  is_retweet  \n",
       "0                                                                           \n",
       "0  [{'screen_name': 'USNationalGuard', 'name': 'N...     False        True  \n",
       "1  [{'screen_name': 'glamelegance', 'name': 'Jule...     False        True  \n",
       "2  [{'screen_name': 'HomeDepotFound', 'name': 'Th...     False        True  \n",
       "3  [{'screen_name': 'TeamPelosi', 'name': 'Nancy ...     False        True  \n",
       "4                                                 []     False       False  "
      ]
     },
     "execution_count": 28,
     "metadata": {},
     "output_type": "execute_result"
    }
   ],
   "source": [
    "dd['is_retweet'] = is_retweet\n",
    "dd.head()"
   ]
  },
  {
   "cell_type": "code",
   "execution_count": 33,
   "metadata": {
    "ExecuteTime": {
     "end_time": "2022-10-13T00:57:55.692057Z",
     "start_time": "2022-10-13T00:57:55.637538Z"
    }
   },
   "outputs": [
    {
     "data": {
      "text/plain": [
       "(7652, 13)"
      ]
     },
     "execution_count": 33,
     "metadata": {},
     "output_type": "execute_result"
    }
   ],
   "source": [
    "df = dd.loc[dd['is_retweet'] == False]\n",
    "df.shape"
   ]
  },
  {
   "cell_type": "code",
   "execution_count": 30,
   "metadata": {
    "ExecuteTime": {
     "end_time": "2022-10-13T00:55:23.837519Z",
     "start_time": "2022-10-13T00:55:20.308219Z"
    }
   },
   "outputs": [],
   "source": [
    "df.to_csv(\"raw_tweets.csv.gz\", compression = 'gzip')\n",
    "dd.to_csv(\"tweets_douplicates_removed.csv.gz\", compression = 'gzip')"
   ]
  },
  {
   "cell_type": "code",
   "execution_count": null,
   "metadata": {},
   "outputs": [],
   "source": []
  }
 ],
 "metadata": {
  "kernelspec": {
   "display_name": "Python (learn-env)",
   "language": "python",
   "name": "learn-env"
  },
  "language_info": {
   "codemirror_mode": {
    "name": "ipython",
    "version": 3
   },
   "file_extension": ".py",
   "mimetype": "text/x-python",
   "name": "python",
   "nbconvert_exporter": "python",
   "pygments_lexer": "ipython3",
   "version": "3.8.5"
  },
  "toc": {
   "base_numbering": 1,
   "nav_menu": {},
   "number_sections": true,
   "sideBar": true,
   "skip_h1_title": false,
   "title_cell": "Table of Contents",
   "title_sidebar": "Contents",
   "toc_cell": false,
   "toc_position": {},
   "toc_section_display": true,
   "toc_window_display": false
  }
 },
 "nbformat": 4,
 "nbformat_minor": 4
}
